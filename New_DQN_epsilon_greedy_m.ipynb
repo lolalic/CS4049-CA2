{
 "cells": [
  {
   "cell_type": "code",
   "execution_count": 1,
   "metadata": {
    "pycharm": {
     "name": "#%%\n"
    }
   },
   "outputs": [],
   "source": [
    "import gymnasium as gym\n",
    "import numpy as np\n",
    "import random\n",
    "from collections import namedtuple, deque\n",
    "import matplotlib.pylab as plt\n",
    "\n",
    "import tensorflow as tf\n",
    "from tensorflow.keras import Sequential\n",
    "from tensorflow.keras.layers import Dense, Input\n",
    "from tensorflow.keras.losses import MSE\n",
    "from tensorflow.keras.optimizers import Adam"
   ]
  },
  {
   "cell_type": "code",
   "execution_count": 2,
   "metadata": {
    "pycharm": {
     "name": "#%%\n"
    }
   },
   "outputs": [],
   "source": [
    "class DQNAgent:\n",
    "\n",
    "    def __init__(self, state_size, action_size):\n",
    "        self.state_size = state_size\n",
    "        self.action_size = action_size\n",
    "        self.memory_size =100_000\n",
    "        self.discount = 0.95    # Discount factor\n",
    "        self.epsilon = 1.0  # Exploration rate\n",
    "        self.learning_rate = 0.001\n",
    "        self.update_interval = 4 #Interval for updating the target Q-network\n",
    "        self.optimizer = Adam(learning_rate = self.learning_rate)\n",
    "        self.q_network= self._build_network()\n",
    "        self.target_q_network = self._build_network()\n",
    "        \n",
    "    \n",
    "    def _build_network(self):\n",
    "        # Build a simple neural network for Q-learning\n",
    "        model = Sequential()\n",
    "        model.add(Input(shape=(self.state_size,)))\n",
    "        model.add(Dense(64, activation='relu'))\n",
    "        model.add(Dense(64, activation='relu'))\n",
    "        model.add(Dense(self.action_size, activation='linear'))\n",
    "        return model\n",
    "\n",
    "    def evaluate_loss(self, experiences):\n",
    "        # Calculate the loss\n",
    "        states, actions, rewards, next_states, done_flags = experiences\n",
    "        \n",
    "        # Compute Q-values for the next states\n",
    "        q_next = self.target_q_network(next_states)\n",
    "        max_q_next = tf.math.reduce_max(q_next, axis=1)\n",
    "        expected_q_values = rewards + self.discount * (1 - done_flags) * max_q_next\n",
    "\n",
    "        # Get the Q-values for the current states and selected actions\n",
    "        q_values = self.q_network(states)\n",
    "        action_indices = tf.range(0, tf.shape(q_values)[0]) * tf.shape(q_values)[1] + tf.cast(actions, tf.int32)\n",
    "        relevant_q_values = tf.gather(tf.reshape(q_values, [-1]), action_indices)\n",
    "\n",
    "        loss_value = tf.reduce_mean(tf.square(expected_q_values - relevant_q_values))\n",
    "        return loss_value\n",
    "\n",
    "    def update_target_network(self):\n",
    "        # Update the target Q-network\n",
    "        update_factor = 0.001\n",
    "        target_params = self.target_q_network.weights\n",
    "        main_params = self.q_network.weights\n",
    "\n",
    "        for target, main in zip(target_params, main_params):\n",
    "            updated_weights = update_factor * main + (1 - update_factor) * target\n",
    "            target.assign(updated_weights)\n",
    "            \n",
    "    @tf.function\n",
    "    def agent_learn(self, experiences):\n",
    "        # Perform a single learning step using gradient tape\n",
    "        with tf.GradientTape() as tape:\n",
    "            loss = self.evaluate_loss(experiences)\n",
    "        parameters = self.q_network.trainable_variables\n",
    "        gradients = tape.gradient(loss, self.q_network.trainable_variables)\n",
    "        self.optimizer.apply_gradients(zip(gradients, parameters))\n",
    "        self.update_target_network()\n",
    "\n",
    "    def select_action(self,state):\n",
    "        # Epsilon-greedy method\n",
    "        if random.random()<=self.epsilon:\n",
    "            return random.randrange(self.action_size)\n",
    "        else:\n",
    "            return np.argmax(self.q_network(state).numpy()[0])\n",
    "            \n",
    "    \n",
    "    def fetch_sampled_experiences(self, experience_buffer):\n",
    "        sampled_experiences = random.sample(experience_buffer, k=64)\n",
    "        state_list = [exp.state for exp in sampled_experiences if exp is not None]\n",
    "        action_list = [exp.action for exp in sampled_experiences if exp is not None]\n",
    "        reward_list = [exp.reward for exp in sampled_experiences if exp is not None]\n",
    "        next_state_list = [exp.next_state for exp in sampled_experiences if exp is not None]\n",
    "        done_list = [exp.terminated for exp in sampled_experiences if exp is not None]\n",
    "\n",
    "        # Convert lists to TensorFlow tensors\n",
    "        states_tensor = tf.convert_to_tensor(state_list, dtype=tf.float32)\n",
    "        actions_tensor = tf.convert_to_tensor(action_list, dtype=tf.float32)\n",
    "        rewards_tensor = tf.convert_to_tensor(reward_list, dtype=tf.float32)\n",
    "        next_states_tensor = tf.convert_to_tensor(next_state_list, dtype=tf.float32)\n",
    "        done_tensor = tf.convert_to_tensor(np.array(done_list).astype(np.uint8), dtype=tf.float32)\n",
    "\n",
    "        return states_tensor, actions_tensor, rewards_tensor, next_states_tensor, done_tensor\n",
    "\n",
    "    def get_one_hot_encoding(self, state):\n",
    "        state_vector = np.zeros(self.state_size)\n",
    "        state_vector[state] = 1\n",
    "        \n",
    "        return state_vector"
   ]
  },
  {
   "cell_type": "code",
   "execution_count": 3,
   "metadata": {
    "pycharm": {
     "name": "#%%\n"
    }
   },
   "outputs": [],
   "source": [
    "def Train_Agent(Agent, episodes, rewards, state_size):\n",
    "    # Initialize the replay memory buffer\n",
    "    memory_buffer = deque(maxlen=Agent.memory_size)\n",
    "    Agent.target_q_network.set_weights(Agent.q_network.get_weights())# Set the target Q-network weights\n",
    "    \n",
    "    # Parameters\n",
    "    min_epsilon=0.01\n",
    "    e_decay=0.05\n",
    "    \n",
    "    # Store the total rewards for each episode\n",
    "    points_history = []\n",
    "    time_step = 1000\n",
    "    \n",
    "    # Define the experience tuple for storing agent experiences\n",
    "    experience = namedtuple(\"Experience\", field_names=[\"state\", \"action\", \"reward\", \"next_state\", \"terminated\"])\n",
    "     \n",
    "    for i in range(episodes):\n",
    "        observation = env.reset()\n",
    "        state = observation[0]\n",
    "        state = Agent.get_one_hot_encoding(state)\n",
    "        total_rewards = 0\n",
    "        timesup = False\n",
    "        step = 0\n",
    "          \n",
    "        while not timesup:\n",
    "            state_qn = np.reshape(state, [1, state_size])# Reshape the state\n",
    "            \n",
    "            # Select an action using greedy\n",
    "            action=Agent.select_action(state_qn)\n",
    "            next_state, reward, terminated, truncated, _ = env.step(action)\n",
    "            next_state = Agent.get_one_hot_encoding(next_state)\n",
    "            \n",
    "            # Store the experience in the replay memory\n",
    "            memory_buffer.append(experience(state, action, reward, next_state, terminated))\n",
    "            \n",
    "            # Update the Q-network\n",
    "            if (step+1) % Agent.update_interval == 0 and len(memory_buffer) > 64:\n",
    "                experiences = Agent.fetch_sampled_experiences(memory_buffer)\n",
    "                Agent.agent_learn(experiences)\n",
    "            \n",
    "            state = next_state\n",
    "            total_rewards += reward\n",
    "            step += 1\n",
    "            \n",
    "            if step == time_step:\n",
    "                timesup = True\n",
    "\n",
    "            if terminated:\n",
    "                break\n",
    "\n",
    "        points_history.append(total_rewards)\n",
    "        avg_points = np.mean(points_history[-100:])\n",
    "\n",
    "        #Update epsilon\n",
    "        Agent.epsilon = max(min_epsilon,e_decay*Agent.epsilon)\n",
    "\n",
    "        if(avg_points >= 8):\n",
    "            print(f\"Environment solved in {i+1} episodes!\")\n",
    "            break\n",
    "        \n",
    "        rewards.append(total_rewards)\n",
    "        \n",
    "    env.close()\n",
    "    print(f\"\\rTraining completed over {episodes} episodes\")\n",
    "    \n"
   ]
  },
  {
   "cell_type": "code",
   "execution_count": 4,
   "metadata": {
    "pycharm": {
     "name": "#%%\n"
    }
   },
   "outputs": [
    {
     "name": "stdout",
     "output_type": "stream",
     "text": [
      "Episode 100 | Total point average of the last 100 episodes: -1063.54\n",
      "Episode 200 | Total point average of the last 100 episodes: -1020.27\n",
      "Episode 300 | Total point average of the last 100 episodes: -1018.82\n",
      "Episode 400 | Total point average of the last 100 episodes: -840.399\n",
      "Episode 500 | Total point average of the last 100 episodes: -736.57\n",
      "Episode 600 | Total point average of the last 100 episodes: -491.16\n",
      "Episode 700 | Total point average of the last 100 episodes: -353.27\n",
      "Episode 800 | Total point average of the last 100 episodes: -337.54\n",
      "Episode 900 | Total point average of the last 100 episodes: -367.37\n",
      "Episode 1000 | Total point average of the last 100 episodes: -263.60\n",
      "Episode 1100 | Total point average of the last 100 episodes: -53.869\n",
      "Episode 1200 | Total point average of the last 100 episodes: -9.373\n",
      "Episode 1300 | Total point average of the last 100 episodes: -12.46\n",
      "Episode 1400 | Total point average of the last 100 episodes: -5.720\n",
      "Episode 1500 | Total point average of the last 100 episodes: -32.61\n",
      "Episode 1600 | Total point average of the last 100 episodes: -34.78\n",
      "Episode 1700 | Total point average of the last 100 episodes: -9.858\n",
      "Episode 1800 | Total point average of the last 100 episodes: 4.017\n",
      "Episode 1900 | Total point average of the last 100 episodes: -17.35\n",
      "Episode 2000 | Total point average of the last 100 episodes: 1.495\n",
      "Episode 2100 | Total point average of the last 100 episodes: 2.115\n",
      "Episode 2200 | Total point average of the last 100 episodes: 3.81\n",
      "Episode 2300 | Total point average of the last 100 episodes: -4.71\n",
      "Episode 2400 | Total point average of the last 100 episodes: 3.866\n",
      "Episode 2500 | Total point average of the last 100 episodes: 5.57\n",
      "Episode 2600 | Total point average of the last 100 episodes: 4.42\n",
      "Episode 2700 | Total point average of the last 100 episodes: 3.63\n",
      "Episode 2800 | Total point average of the last 100 episodes: 5.65\n",
      "Episode 2900 | Total point average of the last 100 episodes: 7.33\n",
      "Episode 3000 | Total point average of the last 100 episodes: 7.19\n",
      "Training completed over 3000 episodes\n"
     ]
    },
    {
     "data": {
      "image/png": "[encoded data removed]",
      "text/plain": [
       "<Figure size 640x480 with 1 Axes>"
      ]
     },
     "metadata": {},
     "output_type": "display_data"
    }
   ],
   "source": [
    "tf.random.set_seed(0)\n",
    "env = gym.make('Taxi-v3')\n",
    "env.reset()\n",
    "rewards = []\n",
    "episodes=3000\n",
    "state_size = env.observation_space.n\n",
    "action_size = env.action_space.n\n",
    "Agent=DQNAgent(state_size, action_size)\n",
    "Train_Agent(Agent, episodes, rewards, state_size)\n",
    "\n",
    "# Plot the cumulative reward per episode\n",
    "plt.title(\"Cumulative reward per episode\")\n",
    "plt.xlabel(\"Episode\")\n",
    "plt.ylabel(\"Cumulative reward\")\n",
    "plt.plot(rewards)\n",
    "plt.show()\n",
    "env.close()"
   ]
  },
  {
   "cell_type": "code",
   "execution_count": null,
   "metadata": {
    "pycharm": {
     "name": "#%%\n"
    }
   },
   "outputs": [],
   "source": []
  }
 ],
 "metadata": {
  "kernelspec": {
   "display_name": "Python 3",
   "language": "python",
   "name": "python3"
  },
  "language_info": {
   "codemirror_mode": {
    "name": "ipython",
    "version": 3
   },
   "file_extension": ".py",
   "mimetype": "text/x-python",
   "name": "python",
   "nbconvert_exporter": "python",
   "pygments_lexer": "ipython3",
   "version": "3.8.3"
  }
 },
 "nbformat": 4,
 "nbformat_minor": 2
}
